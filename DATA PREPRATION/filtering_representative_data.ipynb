{
  "nbformat": 4,
  "nbformat_minor": 0,
  "metadata": {
    "colab": {
      "provenance": []
    },
    "kernelspec": {
      "name": "python3",
      "display_name": "Python 3"
    },
    "language_info": {
      "name": "python"
    }
  },
  "cells": [
    {
      "cell_type": "code",
      "execution_count": 2,
      "metadata": {
        "id": "zHlMVjCufd_s"
      },
      "outputs": [],
      "source": [
        "import pandas as pd\n",
        "\n",
        "pos_id = pd.read_csv(\"positive_cluster.tsv\", sep=\"\\t\", header=None, usecols=[0], dtype=str, names=[\"id\"])\n",
        "pos_id[\"id\"] = pos_id[\"id\"].str.strip()\n",
        "neg_id = pd.read_csv(\"negative_cluster.tsv\", sep=\"\\t\", header=None, usecols=[0], dtype=str, names=[\"id\"])\n",
        "neg_id[\"id\"] = neg_id[\"id\"].str.strip()"
      ]
    },
    {
      "cell_type": "code",
      "source": [
        "unique_pos_id = pos_id[\"id\"].drop_duplicates()\n",
        "unique_pos_id_list=unique_pos_id.values.tolist()\n",
        "\n",
        "\n",
        "unique_neg_id = neg_id[\"id\"].drop_duplicates()\n",
        "unique_neg_id_list=unique_neg_id.values.tolist()"
      ],
      "metadata": {
        "id": "lknGsWbhgqvV"
      },
      "execution_count": 5,
      "outputs": []
    },
    {
      "cell_type": "code",
      "source": [
        "positive_dataset = pd.read_csv(\"DATA COLLECTION/positive_dataset.tsv\", sep=\"\\t\")\n",
        "negative_dataset = pd.read_csv(\"DATA COLLECTION/negative_dataset.tsv\", sep=\"\\t\")"
      ],
      "metadata": {
        "id": "2Ipjqrorixg_"
      },
      "execution_count": 13,
      "outputs": []
    },
    {
      "cell_type": "code",
      "source": [
        "intestation=(\"EntryID\",\"OrganismName\",\"Kingdom\",\"SequenceLength\",\"HelixDomain\")\n",
        "output_neg_file_name='negative_filtered.tsv'\n",
        "with open(output_neg_file_name, \"w\") as ofs:\n",
        "        print(*intestation, sep=\"\\t\", file=ofs)\n",
        "        for index,row in negative_dataset.iterrows():\n",
        "          if row['EntryID'] in unique_neg_id_list:\n",
        "            print(*row,sep=\"\\t\",file=ofs)\n",
        "        ofs.close"
      ],
      "metadata": {
        "id": "zwG4x2LHjhwR"
      },
      "execution_count": 14,
      "outputs": []
    },
    {
      "cell_type": "code",
      "source": [
        "intestation=(\"EntryID\",\"OrganismName\",\"Kingdom\",\"SequenceLength\",\"SPStart\",\"SPEnd\")\n",
        "output_pos_file_name='positive_filtered.tsv'\n",
        "with open(output_pos_file_name, \"w\") as ofs:\n",
        "        print(*intestation, sep=\"\\t\", file=ofs)\n",
        "        for index,row in positive_dataset.iterrows():\n",
        "          if row['EntryID'] in unique_pos_id_list:\n",
        "            print(*row,sep=\"\\t\",file=ofs)\n",
        "        ofs.close"
      ],
      "metadata": {
        "id": "ckNLXhXpkJfF"
      },
      "execution_count": 15,
      "outputs": []
    }
  ]
}