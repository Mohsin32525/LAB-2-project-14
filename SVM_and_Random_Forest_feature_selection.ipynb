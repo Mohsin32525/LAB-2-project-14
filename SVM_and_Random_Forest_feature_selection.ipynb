{
  "nbformat": 4,
  "nbformat_minor": 0,
  "metadata": {
    "colab": {
      "provenance": []
    },
    "kernelspec": {
      "name": "python3",
      "display_name": "Python 3"
    },
    "language_info": {
      "name": "python"
    }
  },
  "cells": [
    {
      "cell_type": "code",
      "source": [
        "!pip install biopython"
      ],
      "metadata": {
        "colab": {
          "base_uri": "https://localhost:8080/"
        },
        "id": "4vW9oUPyemA_",
        "outputId": "57be14e1-74dd-4e9c-8991-d58f7c4414cd"
      },
      "execution_count": 2,
      "outputs": [
        {
          "output_type": "stream",
          "name": "stdout",
          "text": [
            "Collecting biopython\n",
            "  Downloading biopython-1.85-cp312-cp312-manylinux_2_17_x86_64.manylinux2014_x86_64.whl.metadata (13 kB)\n",
            "Requirement already satisfied: numpy in /usr/local/lib/python3.12/dist-packages (from biopython) (2.0.2)\n",
            "Downloading biopython-1.85-cp312-cp312-manylinux_2_17_x86_64.manylinux2014_x86_64.whl (3.3 MB)\n",
            "\u001b[2K   \u001b[90m━━━━━━━━━━━━━━━━━━━━━━━━━━━━━━━━━━━━━━━━\u001b[0m \u001b[32m3.3/3.3 MB\u001b[0m \u001b[31m23.7 MB/s\u001b[0m eta \u001b[36m0:00:00\u001b[0m\n",
            "\u001b[?25hInstalling collected packages: biopython\n",
            "Successfully installed biopython-1.85\n"
          ]
        }
      ]
    },
    {
      "cell_type": "code",
      "execution_count": 22,
      "metadata": {
        "id": "ky94e7XleVMn"
      },
      "outputs": [],
      "source": [
        "import pandas as pd\n",
        "import numpy as np\n",
        "from sklearn.svm import SVC\n",
        "from sklearn.ensemble import RandomForestClassifier\n",
        "from sklearn.model_selection import StratifiedKFold, GridSearchCV\n",
        "from sklearn.feature_selection import SelectFromModel\n",
        "from sklearn.metrics import (\n",
        "    matthews_corrcoef,\n",
        "    accuracy_score,\n",
        "    precision_score,\n",
        "    recall_score,\n",
        "    confusion_matrix\n",
        ")\n",
        "from sklearn.preprocessing import StandardScaler\n",
        "from Bio.SeqUtils.ProtParam import ProteinAnalysis\n",
        "import warnings\n",
        "warnings.filterwarnings(\"ignore\")"
      ]
    },
    {
      "cell_type": "code",
      "source": [
        "AA_ORDER = \"ACDEFGHIKLMNPQRSTVWY\"\n",
        "\n",
        "def aa_composition(seq, n=22):\n",
        "    \"\"\"Return 20D amino acid composition of first n residues.\"\"\"\n",
        "    seq = seq[:n]\n",
        "    if len(seq) == 0:\n",
        "        return [0.0] * 20\n",
        "    comp = ProteinAnalysis(seq).get_amino_acids_percent()\n",
        "    return [comp.get(aa, 0.0) for aa in AA_ORDER]\n",
        "\n",
        "def hydrophobicity_features(seq, window=5, n_region=40):\n",
        "    \"\"\"Return [mean, max] hydrophobicity (Kyte & Doolittle) over first n_region residues.\"\"\"\n",
        "    seq = seq[:n_region]\n",
        "    if len(seq) < window:\n",
        "        return [-10.0, -10.0]\n",
        "    kd_scale = {\n",
        "        'A': 1.8, 'R': -4.5, 'N': -3.5, 'D': -3.5, 'C': 2.5,\n",
        "        'Q': -3.5, 'E': -3.5, 'G': -0.4, 'H': -3.5, 'I': 4.5,\n",
        "        'L': 3.8, 'K': -3.9, 'M': 1.9, 'F': 2.8, 'P': -1.6,\n",
        "        'S': -0.8, 'T': -0.7, 'W': -0.9, 'Y': -1.3, 'V': 4.2\n",
        "    }\n",
        "    scores = []\n",
        "    for i in range(len(seq) - window + 1):\n",
        "        window_seq = seq[i:i + window]\n",
        "        score = np.mean([kd_scale.get(aa, 0) for aa in window_seq])\n",
        "        scores.append(score)\n",
        "    return [np.mean(scores), np.max(scores)]\n",
        "\n",
        "def charge_features(seq, n=10):\n",
        "    \"\"\"Return [pos_count, neg_count, net_charge] in first n residues.\"\"\"\n",
        "    sub = seq[:n]\n",
        "    pos = sub.count('K') + sub.count('R')\n",
        "    neg = sub.count('D') + sub.count('E')\n",
        "    return [pos, neg, pos - neg]\n",
        "\n",
        "def extract_features(df):\n",
        "    \"\"\"Extract full feature vector for each protein sequence.\"\"\"\n",
        "    features = []\n",
        "    for seq in df['Sequence']:\n",
        "        comp = aa_composition(seq, n=22)\n",
        "        hydro = hydrophobicity_features(seq, window=5, n_region=40)\n",
        "        charge = charge_features(seq, n=10)\n",
        "        features.append(comp + hydro + charge)\n",
        "    return np.array(features)"
      ],
      "metadata": {
        "id": "A1LhimD5e4U-"
      },
      "execution_count": 23,
      "outputs": []
    },
    {
      "cell_type": "code",
      "source": [
        "import pandas as pd\n",
        "df = pd.read_csv(\"data.tsv\", sep=\"\\t\")\n",
        "\n",
        "# Validate required columns\n",
        "assert 'Sequence' in df.columns, \"Column 'Sequence' is missing!\"\n",
        "assert 'Label' in df.columns, \"Column 'Label' is missing!\"\n",
        "assert set(df['Label'].unique()).issubset({'Positive', 'Negative'}), \\\n",
        "    \"Labels must be 'Positive' or 'Negative' only.\"\n",
        "\n",
        "\n",
        "# Clean data\n",
        "df = df[df['Sequence'].str.len() > 0].reset_index(drop=True)\n",
        "print(f\"✅ Loaded {len(df)} samples: {sum(df['Label']=='Positive')} SP+, {sum(df['Label']=='Negative')} SP-\")"
      ],
      "metadata": {
        "colab": {
          "base_uri": "https://localhost:8080/"
        },
        "id": "8a7ERIL-ficI",
        "outputId": "22844847-9e2f-477c-b545-847660ba183b"
      },
      "execution_count": 26,
      "outputs": [
        {
          "output_type": "stream",
          "name": "stdout",
          "text": [
            "✅ Loaded 10027 samples: 1093 SP+, 8934 SP-\n"
          ]
        }
      ]
    },
    {
      "cell_type": "code",
      "source": [
        "# Full feature matrix\n",
        "X_full = extract_features(df)\n",
        "y = df['Label'].map({'Positive': 1, 'Negative': 0}).values\n",
        "\n",
        "# Automatic feature selection using Random Forest\n",
        "print(\"\\n🔍 Performing automatic feature selection with Random Forest...\")\n",
        "rf_for_selection = RandomForestClassifier(n_estimators=200, random_state=42)\n",
        "rf_for_selection.fit(X_full, y)\n",
        "\n",
        "# Select top 15 most important features\n",
        "selector = SelectFromModel(rf_for_selection, max_features=15, prefit=True)\n",
        "X_selected = selector.transform(X_full)\n",
        "\n",
        "# Feature names for reporting\n",
        "feature_names = (\n",
        "    [f\"AA_{aa}\" for aa in AA_ORDER] +\n",
        "    [\"Hydro_Mean\", \"Hydro_Max\"] +\n",
        "    [\"Pos_Charge\", \"Neg_Charge\", \"Net_Charge\"]\n",
        ")\n",
        "selected_names = np.array(feature_names)[selector.get_support()]\n",
        "print(\"✅ Selected features:\", list(selected_names))\n",
        "\n",
        "# Standardize features (required for SVM)\n",
        "scaler = StandardScaler()\n",
        "X_scaled = scaler.fit_transform(X_selected)\n"
      ],
      "metadata": {
        "colab": {
          "base_uri": "https://localhost:8080/"
        },
        "id": "hS-l58XjfOHa",
        "outputId": "69929bbf-6125-4cec-b6a5-35b315fbc573"
      },
      "execution_count": 27,
      "outputs": [
        {
          "output_type": "stream",
          "name": "stdout",
          "text": [
            "\n",
            "🔍 Performing automatic feature selection with Random Forest...\n",
            "✅ Selected features: [np.str_('AA_L'), np.str_('Hydro_Mean'), np.str_('Hydro_Max')]\n"
          ]
        }
      ]
    },
    {
      "cell_type": "code",
      "source": [
        "# Define parameter grids for multiple kernels\n",
        "param_grids = [\n",
        "    {'kernel': ['linear'], 'C': [0.5, 1, 2, 4]},\n",
        "    {'kernel': ['rbf'], 'C': [1, 2, 4, 8], 'gamma': [0.5, 1, 2, 'scale']},\n",
        "    {'kernel': ['poly'], 'C': [1, 2], 'degree': [2, 3], 'gamma': ['scale', 1], 'coef0': [0, 1]},\n",
        "    {'kernel': ['sigmoid'], 'C': [1, 2, 4], 'gamma': ['scale', 1], 'coef0': [0, 1]}\n",
        "]\n",
        "\n",
        "# Outer CV: 5-fold test split\n",
        "outer_skf = StratifiedKFold(n_splits=5, shuffle=True, random_state=42)\n",
        "results = []\n",
        "conf_matrices = []\n",
        "\n",
        "print(\"\\n🔄 Starting 5-fold nested cross-validation with multi-kernel grid search...\")\n",
        "\n",
        "for fold, (train_val_idx, test_idx) in enumerate(outer_skf.split(X_scaled, y)):\n",
        "    print(f\"\\n=== FOLD {fold + 1} ===\")\n",
        "\n",
        "    X_train_val, X_test = X_scaled[train_val_idx], X_scaled[test_idx]\n",
        "    y_train_val, y_test = y[train_val_idx], y[test_idx]\n",
        "\n",
        "    # Inner CV: 4-fold hyperparameter tuning\n",
        "    inner_skf = StratifiedKFold(n_splits=4, shuffle=True, random_state=42)\n",
        "\n",
        "    best_score = -1\n",
        "    best_model = None\n",
        "    best_params = None\n",
        "\n",
        "    for param_grid in param_grids:\n",
        "        svm = SVC(probability=False)\n",
        "        grid = GridSearchCV(\n",
        "            svm,\n",
        "            param_grid,\n",
        "            cv=inner_skf,\n",
        "            scoring='matthews_corrcoef',\n",
        "            n_jobs=-1\n",
        "        )\n",
        "        grid.fit(X_train_val, y_train_val)\n",
        "\n",
        "        if grid.best_score_ > best_score:\n",
        "            best_score = grid.best_score_\n",
        "            best_model = grid.best_estimator_\n",
        "            best_params = grid.best_params_\n",
        "  # Evaluate on test set\n",
        "    y_pred = best_model.predict(X_test)\n",
        "    mcc = matthews_corrcoef(y_test, y_pred)\n",
        "    acc = accuracy_score(y_test, y_pred)\n",
        "    prec = precision_score(y_test, y_pred, zero_division=0)\n",
        "    rec = recall_score(y_test, y_pred, zero_division=0)\n",
        "    cm = confusion_matrix(y_test, y_pred)\n",
        "\n",
        "    results.append({\n",
        "        'Fold': fold + 1,\n",
        "        'MCC': mcc,\n",
        "        'Accuracy': acc,\n",
        "        'Precision': prec,\n",
        "        'Recall': rec,\n",
        "        'Best_Params': best_params\n",
        "    })\n",
        "    conf_matrices.append(cm)\n",
        "\n",
        "    print(f\"✅ Test MCC: {mcc:.4f} | Kernel: {best_params['kernel']} | Params: {best_params}\")"
      ],
      "metadata": {
        "colab": {
          "base_uri": "https://localhost:8080/"
        },
        "id": "R65t7bUYfcKB",
        "outputId": "1f6ea55b-458e-43e5-b66c-29ba3c370da6"
      },
      "execution_count": 29,
      "outputs": [
        {
          "output_type": "stream",
          "name": "stdout",
          "text": [
            "\n",
            "🔄 Starting 5-fold nested cross-validation with multi-kernel grid search...\n",
            "\n",
            "=== FOLD 1 ===\n",
            "✅ Test MCC: 0.6711 | Kernel: rbf | Params: {'C': 8, 'gamma': 0.5, 'kernel': 'rbf'}\n",
            "\n",
            "=== FOLD 2 ===\n",
            "✅ Test MCC: 0.6654 | Kernel: rbf | Params: {'C': 1, 'gamma': 2, 'kernel': 'rbf'}\n",
            "\n",
            "=== FOLD 3 ===\n",
            "✅ Test MCC: 0.6674 | Kernel: rbf | Params: {'C': 1, 'gamma': 1, 'kernel': 'rbf'}\n",
            "\n",
            "=== FOLD 4 ===\n",
            "✅ Test MCC: 0.6932 | Kernel: rbf | Params: {'C': 2, 'gamma': 2, 'kernel': 'rbf'}\n",
            "\n",
            "=== FOLD 5 ===\n",
            "✅ Test MCC: 0.7028 | Kernel: rbf | Params: {'C': 1, 'gamma': 1, 'kernel': 'rbf'}\n"
          ]
        }
      ]
    },
    {
      "cell_type": "code",
      "source": [
        "res_df = pd.DataFrame(results)\n",
        "print(\"\\n\" + \"=\"*70)\n",
        "print(\"✅ FINAL PERFORMANCE (5-FOLD NESTED CV WITH FEATURE SELECTION)\")\n",
        "print(\"=\"*70)\n",
        "for col in ['MCC', 'Accuracy', 'Precision', 'Recall']:\n",
        "    mean_val = res_df[col].mean()\n",
        "    std_val = res_df[col].std()\n",
        "    print(f\"{col:10}: {mean_val:.4f} ± {std_val:.4f}\")\n",
        "\n",
        "# Average confusion matrix\n",
        "avg_cm = np.mean(conf_matrices, axis=0).astype(int)\n",
        "print(\"\\nAverage Confusion Matrix:\")\n",
        "print(avg_cm)\n",
        "\n",
        "# Best kernel distribution\n",
        "kernels = [r['Best_Params']['kernel'] for r in results]\n",
        "print(f\"\\nMost selected kernels: {pd.Series(kernels).value_counts().to_dict()}\")"
      ],
      "metadata": {
        "colab": {
          "base_uri": "https://localhost:8080/"
        },
        "id": "xdt9eH2noNwh",
        "outputId": "b8c5107e-47f2-4e2b-f166-6a3ceb0f0561"
      },
      "execution_count": 30,
      "outputs": [
        {
          "output_type": "stream",
          "name": "stdout",
          "text": [
            "\n",
            "======================================================================\n",
            "✅ FINAL PERFORMANCE (5-FOLD NESTED CV WITH FEATURE SELECTION)\n",
            "======================================================================\n",
            "MCC       : 0.6800 ± 0.0169\n",
            "Accuracy  : 0.9404 ± 0.0029\n",
            "Precision : 0.7519 ± 0.0128\n",
            "Recall    : 0.6762 ± 0.0247\n",
            "\n",
            "Average Confusion Matrix:\n",
            "[[1738   48]\n",
            " [  70  147]]\n",
            "\n",
            "Most selected kernels: {'rbf': 5}\n"
          ]
        }
      ]
    },
    {
      "cell_type": "code",
      "source": [
        "import matplotlib.pyplot as plt\n",
        "gini_imp = pd.Series(rf_for_selection.feature_importances_, index=feature_names).sort_values(ascending=False)\n",
        "gini_df = gini_imp.reset_index()\n",
        "gini_df.columns = [\"feature\", \"importance\"]\n",
        "print(\"Top 10 features by Gini importance:\")\n",
        "print(gini_df.head(10))\n",
        "\n",
        "# Plot top 20\n",
        "plt.figure()\n",
        "plt.barh(gini_df[\"feature\"].head(20)[::-1], gini_df[\"importance\"].head(20)[::-1])\n",
        "plt.xlabel(\"Gini importance\")\n",
        "plt.ylabel(\"Feature\")\n",
        "plt.title(\"RandomForest Gini Importances (Top 20)\")\n",
        "plt.show()"
      ],
      "metadata": {
        "colab": {
          "base_uri": "https://localhost:8080/",
          "height": 680
        },
        "id": "BptnuEmxpMCE",
        "outputId": "2fd2b191-dcd4-4037-88fc-b3910124aa31"
      },
      "execution_count": 31,
      "outputs": [
        {
          "output_type": "stream",
          "name": "stdout",
          "text": [
            "Top 10 features by Gini importance:\n",
            "      feature  importance\n",
            "0   Hydro_Max    0.224542\n",
            "1  Hydro_Mean    0.201223\n",
            "2        AA_L    0.142154\n",
            "3  Neg_Charge    0.038694\n",
            "4        AA_R    0.034500\n",
            "5        AA_A    0.031863\n",
            "6  Net_Charge    0.030968\n",
            "7        AA_F    0.023590\n",
            "8        AA_V    0.021511\n",
            "9        AA_P    0.021369\n"
          ]
        },
        {
          "output_type": "display_data",
          "data": {
            "text/plain": [
              "<Figure size 640x480 with 1 Axes>"
            ],
            "image/png": "[encoded data removed]"
          },
          "metadata": {}
        }
      ]
    }
  ]
}